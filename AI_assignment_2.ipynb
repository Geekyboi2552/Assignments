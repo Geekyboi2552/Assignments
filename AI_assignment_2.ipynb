{
  "nbformat": 4,
  "nbformat_minor": 0,
  "metadata": {
    "colab": {
      "provenance": [],
      "collapsed_sections": [
        "O337JlYU_WTq",
        "eNgONK8Ji2fF",
        "3gVQYUIY_NBD",
        "lZmZ554v_ezx",
        "XC1Blctx_x8K"
      ]
    },
    "kernelspec": {
      "name": "python3",
      "display_name": "Python 3"
    },
    "language_info": {
      "name": "python"
    }
  },
  "cells": [
    {
      "cell_type": "markdown",
      "source": [
        "# Reading data (CSV format)"
      ],
      "metadata": {
        "id": "O337JlYU_WTq"
      }
    },
    {
      "cell_type": "code",
      "execution_count": 33,
      "metadata": {
        "id": "uzSwhJdBEZvP"
      },
      "outputs": [],
      "source": [
        "#Malay Rajpoot malay.rajpoot2020@vitstudent.ac.in\n",
        "import numpy as np\n",
        "import pandas as pd \n",
        "import matplotlib.pyplot as plt\n",
        "import seaborn as sns\n",
        "import keras"
      ]
    },
    {
      "cell_type": "code",
      "source": [
        "df=pd.read_csv('/content/drug200.csv')\n",
        "print(df.head())\n",
        "print('\\n')\n",
        "print(df.tail())"
      ],
      "metadata": {
        "colab": {
          "base_uri": "https://localhost:8080/"
        },
        "id": "uMNDHkA1PTrj",
        "outputId": "ee69f7c9-77af-47fd-b3f4-629aa67120ae"
      },
      "execution_count": 7,
      "outputs": [
        {
          "output_type": "stream",
          "name": "stdout",
          "text": [
            "   Age Sex      BP Cholesterol  Na_to_K   Drug\n",
            "0   23   F    HIGH        HIGH   25.355  DrugY\n",
            "1   47   M     LOW        HIGH   13.093  drugC\n",
            "2   47   M     LOW        HIGH   10.114  drugC\n",
            "3   28   F  NORMAL        HIGH    7.798  drugX\n",
            "4   61   F     LOW        HIGH   18.043  DrugY\n",
            "\n",
            "\n",
            "     Age Sex      BP Cholesterol  Na_to_K   Drug\n",
            "195   56   F     LOW        HIGH   11.567  drugC\n",
            "196   16   M     LOW        HIGH   12.006  drugC\n",
            "197   52   M  NORMAL        HIGH    9.894  drugX\n",
            "198   23   M  NORMAL      NORMAL   14.020  drugX\n",
            "199   40   F     LOW      NORMAL   11.349  drugX\n"
          ]
        }
      ]
    },
    {
      "cell_type": "markdown",
      "source": [
        "# Data Preprocessing"
      ],
      "metadata": {
        "id": "eNgONK8Ji2fF"
      }
    },
    {
      "cell_type": "code",
      "source": [
        "df.isnull().sum()"
      ],
      "metadata": {
        "colab": {
          "base_uri": "https://localhost:8080/"
        },
        "id": "2Tuw-WUVRt_Y",
        "outputId": "8577fe00-ebb7-4859-c140-8bc8c2a33000"
      },
      "execution_count": 8,
      "outputs": [
        {
          "output_type": "execute_result",
          "data": {
            "text/plain": [
              "Age            0\n",
              "Sex            0\n",
              "BP             0\n",
              "Cholesterol    0\n",
              "Na_to_K        0\n",
              "Drug           0\n",
              "dtype: int64"
            ]
          },
          "metadata": {},
          "execution_count": 8
        }
      ]
    },
    {
      "cell_type": "markdown",
      "source": [
        "no null values are present so we can skip replacing null values step"
      ],
      "metadata": {
        "id": "8ra2GOktSA-6"
      }
    },
    {
      "cell_type": "code",
      "source": [
        "\n",
        "names=['Age', 'Na_to_K']\n",
        "print(names)\n"
      ],
      "metadata": {
        "colab": {
          "base_uri": "https://localhost:8080/"
        },
        "id": "6fQqvchLSQey",
        "outputId": "2488061f-996c-4a3b-825d-eb5d8f614580"
      },
      "execution_count": 3,
      "outputs": [
        {
          "output_type": "stream",
          "name": "stdout",
          "text": [
            "['Age', 'Na_to_K']\n"
          ]
        }
      ]
    },
    {
      "cell_type": "code",
      "source": [
        "for i,j in enumerate(names):\n",
        "  plt.figure(figsize=(6,10))\n",
        "  plt.subplot(2,1,i+1)\n",
        "  sns.boxplot(x=df[j],orient=\"h\" )"
      ],
      "metadata": {
        "colab": {
          "base_uri": "https://localhost:8080/",
          "height": 843
        },
        "id": "bZDyvC87VCqK",
        "outputId": "dd37ffd9-72ed-48d0-f336-b9d1be860f23"
      },
      "execution_count": 9,
      "outputs": [
        {
          "output_type": "display_data",
          "data": {
            "text/plain": [
              "<Figure size 600x1000 with 1 Axes>"
            ],
            "image/png": "[encoded data removed]"
          },
          "metadata": {}
        },
        {
          "output_type": "display_data",
          "data": {
            "text/plain": [
              "<Figure size 600x1000 with 1 Axes>"
            ],
            "image/png": "[encoded data removed]"
          },
          "metadata": {}
        }
      ]
    },
    {
      "cell_type": "markdown",
      "source": [
        "As we can see there is outlier pesent in the Na_to_K column. So we will be using interquartile range (IQR) method to replace the outlier with median value. We are replacing the data because it is already a small data set, and decreasing or removing any data values may result in a loss in accuracy."
      ],
      "metadata": {
        "id": "Mcfh7DFQa8DI"
      }
    },
    {
      "cell_type": "code",
      "source": [
        "q1=df.Na_to_K.quantile(.25)    # lower quartile\n",
        "q3=df.Na_to_K.quantile(.75)    # upper quartile\n",
        "iqr=q3-q1                      # interquartile range (IQR)\n",
        "upper_limit=q3+1.5*iqr         # setting the upper and lower limits of df\n",
        "lower_limit=q3+1.5*iqr\n",
        "df['Na_to_K']=np.where(df['Na_to_K']>upper_limit,30,df['Na_to_K'])\n",
        "print(df['Na_to_K'].shape)\n",
        "print('\\n')\n",
        "sns.boxplot(x=df['Na_to_K'],orient=\"h\" )"
      ],
      "metadata": {
        "colab": {
          "base_uri": "https://localhost:8080/",
          "height": 518
        },
        "id": "3aKohbZObvNd",
        "outputId": "400faf58-9017-4b6b-dfdd-cc72578e3523"
      },
      "execution_count": 10,
      "outputs": [
        {
          "output_type": "stream",
          "name": "stdout",
          "text": [
            "(200,)\n",
            "\n",
            "\n"
          ]
        },
        {
          "output_type": "execute_result",
          "data": {
            "text/plain": [
              "<Axes: xlabel='Na_to_K'>"
            ]
          },
          "metadata": {},
          "execution_count": 10
        },
        {
          "output_type": "display_data",
          "data": {
            "text/plain": [
              "<Figure size 640x480 with 1 Axes>"
            ],
            "image/png": "[encoded data removed]"
          },
          "metadata": {}
        }
      ]
    },
    {
      "cell_type": "markdown",
      "source": [
        "Hence we can see that the outlier in Na_to_K is completely removed while the no.of data labels (observations) remain the same."
      ],
      "metadata": {
        "id": "Wr6A5xOqdmUm"
      }
    },
    {
      "cell_type": "markdown",
      "source": [
        "# Data Splitting"
      ],
      "metadata": {
        "id": "3gVQYUIY_NBD"
      }
    },
    {
      "cell_type": "code",
      "source": [
        "#check for unique values in categorical data\n",
        "names2=['Sex', 'BP', 'Cholesterol', 'Drug']\n",
        "for i,j in enumerate(names2):\n",
        "  print(df[j].unique())\n",
        "  print(df[j].value_counts())\n",
        "  print('\\n')"
      ],
      "metadata": {
        "colab": {
          "base_uri": "https://localhost:8080/"
        },
        "id": "WrStz5ALh2q-",
        "outputId": "b7ab3061-dd27-4768-c76e-e056e74600a5"
      },
      "execution_count": 14,
      "outputs": [
        {
          "output_type": "stream",
          "name": "stdout",
          "text": [
            "['F' 'M']\n",
            "M    104\n",
            "F     96\n",
            "Name: Sex, dtype: int64\n",
            "\n",
            "\n",
            "['HIGH' 'LOW' 'NORMAL']\n",
            "HIGH      77\n",
            "LOW       64\n",
            "NORMAL    59\n",
            "Name: BP, dtype: int64\n",
            "\n",
            "\n",
            "['HIGH' 'NORMAL']\n",
            "HIGH      103\n",
            "NORMAL     97\n",
            "Name: Cholesterol, dtype: int64\n",
            "\n",
            "\n",
            "['DrugY' 'drugC' 'drugX' 'drugA' 'drugB']\n",
            "DrugY    91\n",
            "drugX    54\n",
            "drugA    23\n",
            "drugC    16\n",
            "drugB    16\n",
            "Name: Drug, dtype: int64\n",
            "\n",
            "\n"
          ]
        }
      ]
    },
    {
      "cell_type": "code",
      "source": [
        "#split independent and dependent data, here dependent is Drug, independent are Age, Sex, BP, Cholesterol and Na_to_K\n",
        "x=df.iloc[:,0:5]\n",
        "print(x.head())\n",
        "y=df['Drug']\n",
        "print(y[0:5])\n"
      ],
      "metadata": {
        "colab": {
          "base_uri": "https://localhost:8080/"
        },
        "id": "Dc22m3stgUt_",
        "outputId": "f90891ce-4838-4c38-d8fa-43036b9f5dc2"
      },
      "execution_count": 16,
      "outputs": [
        {
          "output_type": "stream",
          "name": "stdout",
          "text": [
            "   Age Sex      BP Cholesterol  Na_to_K\n",
            "0   23   F    HIGH        HIGH   25.355\n",
            "1   47   M     LOW        HIGH   13.093\n",
            "2   47   M     LOW        HIGH   10.114\n",
            "3   28   F  NORMAL        HIGH    7.798\n",
            "4   61   F     LOW        HIGH   18.043\n",
            "0    DrugY\n",
            "1    drugC\n",
            "2    drugC\n",
            "3    drugX\n",
            "4    DrugY\n",
            "Name: Drug, dtype: object\n"
          ]
        }
      ]
    },
    {
      "cell_type": "code",
      "source": [
        "#splitting test and train data\n",
        "from sklearn.model_selection import train_test_split\n",
        "xtrain,xtest,ytrain,ytest=train_test_split(x,y,test_size=0.2,random_state=21)"
      ],
      "metadata": {
        "id": "D6DrLaR8lQMm"
      },
      "execution_count": 139,
      "outputs": []
    },
    {
      "cell_type": "code",
      "source": [
        "#Encoding categorical values\n",
        "from sklearn.preprocessing import LabelEncoder\n",
        "le=LabelEncoder()\n",
        "names3=['Sex', 'BP', 'Cholesterol' ]\n",
        "for i,j in enumerate(names3):\n",
        "  xtrain[j]=le.fit_transform(xtrain[j])\n",
        "  xtest[j]=le.transform(xtest[j])\n",
        "  print( xtrain[j],\" \",xtest[j])\n",
        "\n",
        "ytrain=le.fit_transform(ytrain)\n",
        "ytest=le.transform(ytest)\n",
        "ytrain=keras.utils.to_categorical(ytrain)\n",
        "ytest=keras.utils.to_categorical(ytest)\n",
        "print('\\n')\n",
        "print( ytrain,\" \",ytest)\n",
        "\n"
      ],
      "metadata": {
        "id": "ANveG26JeU4z",
        "colab": {
          "base_uri": "https://localhost:8080/"
        },
        "outputId": "e8d4a5d8-f407-4d69-f7ac-82f727c8b17d"
      },
      "execution_count": 140,
      "outputs": [
        {
          "output_type": "stream",
          "name": "stdout",
          "text": [
            "176    1\n",
            "111    0\n",
            "114    0\n",
            "14     0\n",
            "106    1\n",
            "      ..\n",
            "120    1\n",
            "112    1\n",
            "48     1\n",
            "4      0\n",
            "56     1\n",
            "Name: Sex, Length: 160, dtype: int64   144    1\n",
            "9      1\n",
            "17     1\n",
            "20     1\n",
            "45     0\n",
            "6      0\n",
            "52     1\n",
            "91     1\n",
            "129    0\n",
            "183    0\n",
            "21     1\n",
            "42     1\n",
            "105    1\n",
            "145    1\n",
            "87     1\n",
            "152    1\n",
            "124    0\n",
            "92     0\n",
            "101    0\n",
            "13     0\n",
            "108    1\n",
            "75     1\n",
            "40     0\n",
            "198    1\n",
            "191    1\n",
            "192    1\n",
            "194    0\n",
            "117    0\n",
            "2      1\n",
            "131    1\n",
            "19     0\n",
            "143    1\n",
            "147    0\n",
            "22     1\n",
            "102    0\n",
            "60     0\n",
            "136    0\n",
            "168    0\n",
            "138    1\n",
            "54     0\n",
            "Name: Sex, dtype: int64\n",
            "176    0\n",
            "111    2\n",
            "114    2\n",
            "14     2\n",
            "106    2\n",
            "      ..\n",
            "120    2\n",
            "112    1\n",
            "48     2\n",
            "4      1\n",
            "56     0\n",
            "Name: BP, Length: 160, dtype: int64   144    0\n",
            "9      1\n",
            "17     0\n",
            "20     1\n",
            "45     2\n",
            "6      2\n",
            "52     1\n",
            "91     0\n",
            "129    2\n",
            "183    0\n",
            "21     2\n",
            "42     2\n",
            "105    1\n",
            "145    2\n",
            "87     1\n",
            "152    2\n",
            "124    0\n",
            "92     0\n",
            "101    0\n",
            "13     1\n",
            "108    0\n",
            "75     1\n",
            "40     2\n",
            "198    2\n",
            "191    0\n",
            "192    1\n",
            "194    0\n",
            "117    2\n",
            "2      1\n",
            "131    1\n",
            "19     0\n",
            "143    0\n",
            "147    0\n",
            "22     1\n",
            "102    1\n",
            "60     1\n",
            "136    0\n",
            "168    1\n",
            "138    0\n",
            "54     0\n",
            "Name: BP, dtype: int64\n",
            "176    1\n",
            "111    1\n",
            "114    1\n",
            "14     0\n",
            "106    0\n",
            "      ..\n",
            "120    0\n",
            "112    1\n",
            "48     0\n",
            "4      0\n",
            "56     1\n",
            "Name: Cholesterol, Length: 160, dtype: int64   144    0\n",
            "9      1\n",
            "17     0\n",
            "20     1\n",
            "45     1\n",
            "6      0\n",
            "52     1\n",
            "91     1\n",
            "129    0\n",
            "183    1\n",
            "21     0\n",
            "42     1\n",
            "105    1\n",
            "145    0\n",
            "87     0\n",
            "152    1\n",
            "124    1\n",
            "92     0\n",
            "101    0\n",
            "13     0\n",
            "108    1\n",
            "75     1\n",
            "40     0\n",
            "198    1\n",
            "191    0\n",
            "192    0\n",
            "194    0\n",
            "117    0\n",
            "2      0\n",
            "131    1\n",
            "19     1\n",
            "143    1\n",
            "147    1\n",
            "22     1\n",
            "102    0\n",
            "60     1\n",
            "136    0\n",
            "168    1\n",
            "138    1\n",
            "54     1\n",
            "Name: Cholesterol, dtype: int64\n",
            "\n",
            "\n",
            "[[0. 1. 0. 0. 0.]\n",
            " [0. 0. 0. 0. 1.]\n",
            " [0. 0. 0. 0. 1.]\n",
            " [0. 0. 0. 0. 1.]\n",
            " [0. 0. 0. 0. 1.]\n",
            " [0. 0. 1. 0. 0.]\n",
            " [0. 0. 0. 0. 1.]\n",
            " [0. 0. 0. 1. 0.]\n",
            " [1. 0. 0. 0. 0.]\n",
            " [0. 0. 0. 0. 1.]\n",
            " [0. 1. 0. 0. 0.]\n",
            " [0. 1. 0. 0. 0.]\n",
            " [0. 0. 1. 0. 0.]\n",
            " [1. 0. 0. 0. 0.]\n",
            " [0. 0. 0. 0. 1.]\n",
            " [1. 0. 0. 0. 0.]\n",
            " [1. 0. 0. 0. 0.]\n",
            " [0. 0. 0. 0. 1.]\n",
            " [1. 0. 0. 0. 0.]\n",
            " [1. 0. 0. 0. 0.]\n",
            " [0. 1. 0. 0. 0.]\n",
            " [0. 0. 0. 0. 1.]\n",
            " [1. 0. 0. 0. 0.]\n",
            " [1. 0. 0. 0. 0.]\n",
            " [0. 0. 0. 0. 1.]\n",
            " [0. 0. 0. 0. 1.]\n",
            " [0. 0. 0. 1. 0.]\n",
            " [0. 0. 0. 0. 1.]\n",
            " [0. 1. 0. 0. 0.]\n",
            " [1. 0. 0. 0. 0.]\n",
            " [0. 1. 0. 0. 0.]\n",
            " [1. 0. 0. 0. 0.]\n",
            " [1. 0. 0. 0. 0.]\n",
            " [1. 0. 0. 0. 0.]\n",
            " [1. 0. 0. 0. 0.]\n",
            " [0. 0. 0. 0. 1.]\n",
            " [1. 0. 0. 0. 0.]\n",
            " [0. 0. 0. 0. 1.]\n",
            " [0. 0. 0. 0. 1.]\n",
            " [0. 0. 0. 0. 1.]\n",
            " [1. 0. 0. 0. 0.]\n",
            " [1. 0. 0. 0. 0.]\n",
            " [1. 0. 0. 0. 0.]\n",
            " [0. 0. 0. 1. 0.]\n",
            " [1. 0. 0. 0. 0.]\n",
            " [1. 0. 0. 0. 0.]\n",
            " [0. 0. 0. 1. 0.]\n",
            " [1. 0. 0. 0. 0.]\n",
            " [1. 0. 0. 0. 0.]\n",
            " [0. 0. 1. 0. 0.]\n",
            " [0. 0. 0. 0. 1.]\n",
            " [0. 0. 1. 0. 0.]\n",
            " [0. 1. 0. 0. 0.]\n",
            " [0. 0. 0. 0. 1.]\n",
            " [1. 0. 0. 0. 0.]\n",
            " [0. 0. 0. 0. 1.]\n",
            " [1. 0. 0. 0. 0.]\n",
            " [1. 0. 0. 0. 0.]\n",
            " [0. 0. 1. 0. 0.]\n",
            " [0. 0. 0. 0. 1.]\n",
            " [0. 1. 0. 0. 0.]\n",
            " [0. 0. 0. 1. 0.]\n",
            " [1. 0. 0. 0. 0.]\n",
            " [1. 0. 0. 0. 0.]\n",
            " [1. 0. 0. 0. 0.]\n",
            " [0. 0. 0. 0. 1.]\n",
            " [1. 0. 0. 0. 0.]\n",
            " [0. 0. 0. 0. 1.]\n",
            " [0. 0. 0. 0. 1.]\n",
            " [1. 0. 0. 0. 0.]\n",
            " [1. 0. 0. 0. 0.]\n",
            " [0. 0. 0. 0. 1.]\n",
            " [0. 0. 0. 0. 1.]\n",
            " [1. 0. 0. 0. 0.]\n",
            " [1. 0. 0. 0. 0.]\n",
            " [1. 0. 0. 0. 0.]\n",
            " [0. 0. 0. 0. 1.]\n",
            " [0. 0. 0. 1. 0.]\n",
            " [0. 0. 1. 0. 0.]\n",
            " [0. 0. 0. 0. 1.]\n",
            " [0. 0. 0. 1. 0.]\n",
            " [0. 0. 0. 0. 1.]\n",
            " [0. 0. 0. 0. 1.]\n",
            " [1. 0. 0. 0. 0.]\n",
            " [0. 0. 0. 0. 1.]\n",
            " [0. 0. 0. 1. 0.]\n",
            " [1. 0. 0. 0. 0.]\n",
            " [0. 0. 0. 0. 1.]\n",
            " [0. 0. 0. 0. 1.]\n",
            " [1. 0. 0. 0. 0.]\n",
            " [0. 0. 0. 0. 1.]\n",
            " [1. 0. 0. 0. 0.]\n",
            " [1. 0. 0. 0. 0.]\n",
            " [1. 0. 0. 0. 0.]\n",
            " [0. 0. 0. 0. 1.]\n",
            " [1. 0. 0. 0. 0.]\n",
            " [0. 1. 0. 0. 0.]\n",
            " [0. 0. 0. 1. 0.]\n",
            " [0. 0. 1. 0. 0.]\n",
            " [1. 0. 0. 0. 0.]\n",
            " [1. 0. 0. 0. 0.]\n",
            " [1. 0. 0. 0. 0.]\n",
            " [1. 0. 0. 0. 0.]\n",
            " [0. 0. 0. 0. 1.]\n",
            " [0. 0. 0. 0. 1.]\n",
            " [1. 0. 0. 0. 0.]\n",
            " [1. 0. 0. 0. 0.]\n",
            " [1. 0. 0. 0. 0.]\n",
            " [1. 0. 0. 0. 0.]\n",
            " [0. 1. 0. 0. 0.]\n",
            " [0. 0. 0. 0. 1.]\n",
            " [0. 0. 0. 0. 1.]\n",
            " [0. 1. 0. 0. 0.]\n",
            " [0. 0. 0. 0. 1.]\n",
            " [0. 0. 0. 1. 0.]\n",
            " [0. 0. 0. 0. 1.]\n",
            " [0. 1. 0. 0. 0.]\n",
            " [0. 0. 0. 0. 1.]\n",
            " [0. 1. 0. 0. 0.]\n",
            " [1. 0. 0. 0. 0.]\n",
            " [1. 0. 0. 0. 0.]\n",
            " [1. 0. 0. 0. 0.]\n",
            " [1. 0. 0. 0. 0.]\n",
            " [0. 1. 0. 0. 0.]\n",
            " [1. 0. 0. 0. 0.]\n",
            " [1. 0. 0. 0. 0.]\n",
            " [1. 0. 0. 0. 0.]\n",
            " [1. 0. 0. 0. 0.]\n",
            " [0. 0. 0. 1. 0.]\n",
            " [1. 0. 0. 0. 0.]\n",
            " [0. 0. 1. 0. 0.]\n",
            " [0. 0. 0. 1. 0.]\n",
            " [0. 0. 0. 0. 1.]\n",
            " [0. 0. 1. 0. 0.]\n",
            " [0. 0. 0. 0. 1.]\n",
            " [1. 0. 0. 0. 0.]\n",
            " [0. 0. 1. 0. 0.]\n",
            " [1. 0. 0. 0. 0.]\n",
            " [0. 0. 0. 1. 0.]\n",
            " [1. 0. 0. 0. 0.]\n",
            " [0. 1. 0. 0. 0.]\n",
            " [1. 0. 0. 0. 0.]\n",
            " [0. 0. 0. 0. 1.]\n",
            " [1. 0. 0. 0. 0.]\n",
            " [0. 0. 0. 1. 0.]\n",
            " [0. 1. 0. 0. 0.]\n",
            " [0. 0. 0. 0. 1.]\n",
            " [1. 0. 0. 0. 0.]\n",
            " [0. 1. 0. 0. 0.]\n",
            " [1. 0. 0. 0. 0.]\n",
            " [0. 1. 0. 0. 0.]\n",
            " [0. 0. 0. 0. 1.]\n",
            " [1. 0. 0. 0. 0.]\n",
            " [1. 0. 0. 0. 0.]\n",
            " [1. 0. 0. 0. 0.]\n",
            " [1. 0. 0. 0. 0.]\n",
            " [0. 0. 0. 0. 1.]\n",
            " [1. 0. 0. 0. 0.]\n",
            " [1. 0. 0. 0. 0.]\n",
            " [0. 0. 1. 0. 0.]]   [[0. 1. 0. 0. 0.]\n",
            " [1. 0. 0. 0. 0.]\n",
            " [0. 1. 0. 0. 0.]\n",
            " [1. 0. 0. 0. 0.]\n",
            " [0. 0. 0. 0. 1.]\n",
            " [1. 0. 0. 0. 0.]\n",
            " [1. 0. 0. 0. 0.]\n",
            " [1. 0. 0. 0. 0.]\n",
            " [0. 0. 0. 0. 1.]\n",
            " [1. 0. 0. 0. 0.]\n",
            " [1. 0. 0. 0. 0.]\n",
            " [1. 0. 0. 0. 0.]\n",
            " [0. 0. 0. 0. 1.]\n",
            " [0. 0. 0. 0. 1.]\n",
            " [1. 0. 0. 0. 0.]\n",
            " [0. 0. 0. 0. 1.]\n",
            " [0. 0. 1. 0. 0.]\n",
            " [1. 0. 0. 0. 0.]\n",
            " [0. 1. 0. 0. 0.]\n",
            " [1. 0. 0. 0. 0.]\n",
            " [0. 0. 1. 0. 0.]\n",
            " [1. 0. 0. 0. 0.]\n",
            " [1. 0. 0. 0. 0.]\n",
            " [0. 0. 0. 0. 1.]\n",
            " [0. 1. 0. 0. 0.]\n",
            " [1. 0. 0. 0. 0.]\n",
            " [1. 0. 0. 0. 0.]\n",
            " [0. 0. 0. 0. 1.]\n",
            " [0. 0. 0. 1. 0.]\n",
            " [1. 0. 0. 0. 0.]\n",
            " [1. 0. 0. 0. 0.]\n",
            " [1. 0. 0. 0. 0.]\n",
            " [0. 1. 0. 0. 0.]\n",
            " [1. 0. 0. 0. 0.]\n",
            " [0. 0. 0. 1. 0.]\n",
            " [1. 0. 0. 0. 0.]\n",
            " [0. 0. 1. 0. 0.]\n",
            " [1. 0. 0. 0. 0.]\n",
            " [0. 0. 1. 0. 0.]\n",
            " [0. 0. 1. 0. 0.]]\n"
          ]
        }
      ]
    },
    {
      "cell_type": "markdown",
      "source": [
        "# Training and testing the Model"
      ],
      "metadata": {
        "id": "lZmZ554v_ezx"
      }
    },
    {
      "cell_type": "markdown",
      "source": [
        "Finally we build an Artificial Neural Network (ANN) model based on the data we preprocessed."
      ],
      "metadata": {
        "id": "qc-GjbT7nxWS"
      }
    },
    {
      "cell_type": "code",
      "source": [
        "from tensorflow.keras.models import Sequential\n",
        "from tensorflow.keras.layers import Dense\n",
        "\n",
        "model=Sequential()\n",
        "model.add(Dense(45,input_dim=5, activation='relu'))\n",
        "model.add(Dense(67,activation='relu'))\n",
        "model.add(Dense(78,activation='relu'))\n",
        "model.add(Dense(43,activation='relu'))\n",
        "model.add(Dense(72,activation='relu'))\n",
        "model.add(Dense(5,activation='softmax'))\n",
        "\n",
        "print(model.summary())\n",
        "\n",
        "model.compile(optimizer='adam',loss='categorical_crossentropy',metrics=['accuracy'])\n",
        "\n",
        "model.fit(xtrain,ytrain,batch_size=6,epochs=48,validation_data=(xtest,ytest))\n",
        "\n",
        "test_loss, test_acc = model.evaluate(xtest,ytest)\n",
        "print('Test accuracy:', test_acc * 100)"
      ],
      "metadata": {
        "colab": {
          "base_uri": "https://localhost:8080/"
        },
        "id": "gvMST9a9pIF-",
        "outputId": "272f382b-cb44-4518-bb5b-9743e187cc3f"
      },
      "execution_count": 144,
      "outputs": [
        {
          "output_type": "stream",
          "name": "stdout",
          "text": [
            "Model: \"sequential_31\"\n",
            "_________________________________________________________________\n",
            " Layer (type)                Output Shape              Param #   \n",
            "=================================================================\n",
            " dense_186 (Dense)           (None, 45)                270       \n",
            "                                                                 \n",
            " dense_187 (Dense)           (None, 67)                3082      \n",
            "                                                                 \n",
            " dense_188 (Dense)           (None, 78)                5304      \n",
            "                                                                 \n",
            " dense_189 (Dense)           (None, 43)                3397      \n",
            "                                                                 \n",
            " dense_190 (Dense)           (None, 72)                3168      \n",
            "                                                                 \n",
            " dense_191 (Dense)           (None, 5)                 365       \n",
            "                                                                 \n",
            "=================================================================\n",
            "Total params: 15,586\n",
            "Trainable params: 15,586\n",
            "Non-trainable params: 0\n",
            "_________________________________________________________________\n",
            "None\n",
            "Epoch 1/48\n",
            "27/27 [==============================] - 1s 9ms/step - loss: 1.2684 - accuracy: 0.5375 - val_loss: 1.5608 - val_accuracy: 0.4000\n",
            "Epoch 2/48\n",
            "27/27 [==============================] - 0s 3ms/step - loss: 1.0866 - accuracy: 0.5625 - val_loss: 1.0724 - val_accuracy: 0.5500\n",
            "Epoch 3/48\n",
            "27/27 [==============================] - 0s 3ms/step - loss: 1.0268 - accuracy: 0.5875 - val_loss: 1.0301 - val_accuracy: 0.6000\n",
            "Epoch 4/48\n",
            "27/27 [==============================] - 0s 3ms/step - loss: 1.0201 - accuracy: 0.5938 - val_loss: 1.4545 - val_accuracy: 0.4500\n",
            "Epoch 5/48\n",
            "27/27 [==============================] - 0s 3ms/step - loss: 1.0155 - accuracy: 0.5875 - val_loss: 1.0059 - val_accuracy: 0.5750\n",
            "Epoch 6/48\n",
            "27/27 [==============================] - 0s 3ms/step - loss: 0.9427 - accuracy: 0.5938 - val_loss: 0.8828 - val_accuracy: 0.6000\n",
            "Epoch 7/48\n",
            "27/27 [==============================] - 0s 3ms/step - loss: 0.8831 - accuracy: 0.6187 - val_loss: 0.9363 - val_accuracy: 0.6750\n",
            "Epoch 8/48\n",
            "27/27 [==============================] - 0s 3ms/step - loss: 0.8499 - accuracy: 0.6750 - val_loss: 0.8805 - val_accuracy: 0.6000\n",
            "Epoch 9/48\n",
            "27/27 [==============================] - 0s 3ms/step - loss: 0.8134 - accuracy: 0.7000 - val_loss: 1.1064 - val_accuracy: 0.5000\n",
            "Epoch 10/48\n",
            "27/27 [==============================] - 0s 3ms/step - loss: 0.7550 - accuracy: 0.7063 - val_loss: 0.7374 - val_accuracy: 0.7000\n",
            "Epoch 11/48\n",
            "27/27 [==============================] - 0s 3ms/step - loss: 0.7777 - accuracy: 0.7063 - val_loss: 0.8143 - val_accuracy: 0.6000\n",
            "Epoch 12/48\n",
            "27/27 [==============================] - 0s 3ms/step - loss: 0.7450 - accuracy: 0.6875 - val_loss: 0.6573 - val_accuracy: 0.7750\n",
            "Epoch 13/48\n",
            "27/27 [==============================] - 0s 3ms/step - loss: 0.6377 - accuracy: 0.7375 - val_loss: 0.5967 - val_accuracy: 0.7500\n",
            "Epoch 14/48\n",
            "27/27 [==============================] - 0s 3ms/step - loss: 0.6953 - accuracy: 0.6938 - val_loss: 0.6097 - val_accuracy: 0.7750\n",
            "Epoch 15/48\n",
            "27/27 [==============================] - 0s 3ms/step - loss: 0.6354 - accuracy: 0.7375 - val_loss: 0.6043 - val_accuracy: 0.7500\n",
            "Epoch 16/48\n",
            "27/27 [==============================] - 0s 2ms/step - loss: 0.6302 - accuracy: 0.7250 - val_loss: 0.7310 - val_accuracy: 0.7750\n",
            "Epoch 17/48\n",
            "27/27 [==============================] - 0s 2ms/step - loss: 0.5569 - accuracy: 0.7437 - val_loss: 0.7678 - val_accuracy: 0.7250\n",
            "Epoch 18/48\n",
            "27/27 [==============================] - 0s 3ms/step - loss: 0.6040 - accuracy: 0.7500 - val_loss: 0.7550 - val_accuracy: 0.7000\n",
            "Epoch 19/48\n",
            "27/27 [==============================] - 0s 4ms/step - loss: 0.5856 - accuracy: 0.7437 - val_loss: 0.7530 - val_accuracy: 0.7250\n",
            "Epoch 20/48\n",
            "27/27 [==============================] - 0s 2ms/step - loss: 0.5555 - accuracy: 0.7437 - val_loss: 0.8890 - val_accuracy: 0.6250\n",
            "Epoch 21/48\n",
            "27/27 [==============================] - 0s 3ms/step - loss: 0.6935 - accuracy: 0.7250 - val_loss: 1.3211 - val_accuracy: 0.5500\n",
            "Epoch 22/48\n",
            "27/27 [==============================] - 0s 3ms/step - loss: 0.7525 - accuracy: 0.6687 - val_loss: 0.5614 - val_accuracy: 0.7750\n",
            "Epoch 23/48\n",
            "27/27 [==============================] - 0s 3ms/step - loss: 0.5549 - accuracy: 0.7688 - val_loss: 0.5927 - val_accuracy: 0.7500\n",
            "Epoch 24/48\n",
            "27/27 [==============================] - 0s 3ms/step - loss: 0.5586 - accuracy: 0.7312 - val_loss: 0.8169 - val_accuracy: 0.6250\n",
            "Epoch 25/48\n",
            "27/27 [==============================] - 0s 3ms/step - loss: 0.6374 - accuracy: 0.7188 - val_loss: 0.6225 - val_accuracy: 0.7250\n",
            "Epoch 26/48\n",
            "27/27 [==============================] - 0s 3ms/step - loss: 0.5067 - accuracy: 0.7750 - val_loss: 0.5038 - val_accuracy: 0.8000\n",
            "Epoch 27/48\n",
            "27/27 [==============================] - 0s 3ms/step - loss: 0.5658 - accuracy: 0.7625 - val_loss: 0.4775 - val_accuracy: 0.8500\n",
            "Epoch 28/48\n",
            "27/27 [==============================] - 0s 3ms/step - loss: 0.4918 - accuracy: 0.7500 - val_loss: 0.4666 - val_accuracy: 0.8250\n",
            "Epoch 29/48\n",
            "27/27 [==============================] - 0s 3ms/step - loss: 0.5374 - accuracy: 0.7625 - val_loss: 0.6756 - val_accuracy: 0.7500\n",
            "Epoch 30/48\n",
            "27/27 [==============================] - 0s 3ms/step - loss: 0.5242 - accuracy: 0.7750 - val_loss: 0.8829 - val_accuracy: 0.6250\n",
            "Epoch 31/48\n",
            "27/27 [==============================] - 0s 3ms/step - loss: 0.4458 - accuracy: 0.8062 - val_loss: 0.6052 - val_accuracy: 0.7750\n",
            "Epoch 32/48\n",
            "27/27 [==============================] - 0s 3ms/step - loss: 0.4725 - accuracy: 0.8062 - val_loss: 0.5291 - val_accuracy: 0.8000\n",
            "Epoch 33/48\n",
            "27/27 [==============================] - 0s 3ms/step - loss: 0.5983 - accuracy: 0.7500 - val_loss: 0.6579 - val_accuracy: 0.7250\n",
            "Epoch 34/48\n",
            "27/27 [==============================] - 0s 3ms/step - loss: 0.6505 - accuracy: 0.7312 - val_loss: 0.6681 - val_accuracy: 0.7750\n",
            "Epoch 35/48\n",
            "27/27 [==============================] - 0s 3ms/step - loss: 0.4423 - accuracy: 0.8062 - val_loss: 0.5713 - val_accuracy: 0.7500\n",
            "Epoch 36/48\n",
            "27/27 [==============================] - 0s 3ms/step - loss: 0.4690 - accuracy: 0.7937 - val_loss: 0.7281 - val_accuracy: 0.7250\n",
            "Epoch 37/48\n",
            "27/27 [==============================] - 0s 3ms/step - loss: 0.4473 - accuracy: 0.7875 - val_loss: 0.6974 - val_accuracy: 0.7250\n",
            "Epoch 38/48\n",
            "27/27 [==============================] - 0s 3ms/step - loss: 0.4370 - accuracy: 0.8375 - val_loss: 0.7366 - val_accuracy: 0.7750\n",
            "Epoch 39/48\n",
            "27/27 [==============================] - 0s 2ms/step - loss: 0.4681 - accuracy: 0.8062 - val_loss: 0.5756 - val_accuracy: 0.7500\n",
            "Epoch 40/48\n",
            "27/27 [==============================] - 0s 2ms/step - loss: 0.3790 - accuracy: 0.8375 - val_loss: 0.6449 - val_accuracy: 0.7750\n",
            "Epoch 41/48\n",
            "27/27 [==============================] - 0s 3ms/step - loss: 0.3617 - accuracy: 0.8375 - val_loss: 0.5149 - val_accuracy: 0.8250\n",
            "Epoch 42/48\n",
            "27/27 [==============================] - 0s 3ms/step - loss: 0.3676 - accuracy: 0.8625 - val_loss: 0.8498 - val_accuracy: 0.6750\n",
            "Epoch 43/48\n",
            "27/27 [==============================] - 0s 3ms/step - loss: 0.5442 - accuracy: 0.7750 - val_loss: 0.5755 - val_accuracy: 0.7250\n",
            "Epoch 44/48\n",
            "27/27 [==============================] - 0s 3ms/step - loss: 0.4845 - accuracy: 0.7812 - val_loss: 0.8512 - val_accuracy: 0.6500\n",
            "Epoch 45/48\n",
            "27/27 [==============================] - 0s 3ms/step - loss: 0.4986 - accuracy: 0.7625 - val_loss: 0.6891 - val_accuracy: 0.7500\n",
            "Epoch 46/48\n",
            "27/27 [==============================] - 0s 3ms/step - loss: 0.3988 - accuracy: 0.8500 - val_loss: 0.5041 - val_accuracy: 0.8500\n",
            "Epoch 47/48\n",
            "27/27 [==============================] - 0s 3ms/step - loss: 0.3323 - accuracy: 0.8875 - val_loss: 0.4500 - val_accuracy: 0.8250\n",
            "Epoch 48/48\n",
            "27/27 [==============================] - 0s 3ms/step - loss: 0.2978 - accuracy: 0.8813 - val_loss: 0.4220 - val_accuracy: 0.8750\n",
            "2/2 [==============================] - 0s 7ms/step - loss: 0.4220 - accuracy: 0.8750\n",
            "Test accuracy: 87.5\n"
          ]
        }
      ]
    },
    {
      "cell_type": "code",
      "source": [
        "test_loss, test_acc = model.evaluate(xtest,ytest)\n",
        "print('Test accuracy:', test_acc * 100)"
      ],
      "metadata": {
        "colab": {
          "base_uri": "https://localhost:8080/"
        },
        "id": "tkEBS7y6uUCb",
        "outputId": "3225b01b-46d9-4553-9c23-d5f6ada065d4"
      },
      "execution_count": 145,
      "outputs": [
        {
          "output_type": "stream",
          "name": "stdout",
          "text": [
            "2/2 [==============================] - 0s 6ms/step - loss: 0.4220 - accuracy: 0.8750\n",
            "Test accuracy: 87.5\n"
          ]
        }
      ]
    },
    {
      "cell_type": "markdown",
      "source": [
        "now we will test our model"
      ],
      "metadata": {
        "id": "j_EN98M5xfnS"
      }
    },
    {
      "cell_type": "code",
      "source": [
        "\n",
        "import numpy as np\n",
        "\n",
        "# ...\n",
        "\n",
        "# Testing the model\n",
        "y_pred = model.predict(xtest)\n",
        "\n",
        "# Comparing predicted values to actual values\n",
        "comp = pd.DataFrame({'Actual Value': ytest.tolist(), 'Predicted Value': y_pred.tolist()})\n",
        "print(comp)\n",
        "\n",
        "# Making predictions on new input\n",
        "new_input = np.array([43, 1, 0, 1, 34.563]).reshape(1, -1)  # Reshape the input as a 2D array\n",
        "prediction = model.predict(new_input)\n",
        "print(\"Prediction:\", prediction)"
      ],
      "metadata": {
        "colab": {
          "base_uri": "https://localhost:8080/"
        },
        "id": "GlcHaBB_xi6o",
        "outputId": "c139b337-8ad6-4f5c-e070-a2a306cf684f"
      },
      "execution_count": 223,
      "outputs": [
        {
          "output_type": "stream",
          "name": "stdout",
          "text": [
            "2/2 [==============================] - 0s 7ms/step\n",
            "                 Actual Value  \\\n",
            "0   [0.0, 1.0, 0.0, 0.0, 0.0]   \n",
            "1   [1.0, 0.0, 0.0, 0.0, 0.0]   \n",
            "2   [0.0, 1.0, 0.0, 0.0, 0.0]   \n",
            "3   [1.0, 0.0, 0.0, 0.0, 0.0]   \n",
            "4   [0.0, 0.0, 0.0, 0.0, 1.0]   \n",
            "5   [1.0, 0.0, 0.0, 0.0, 0.0]   \n",
            "6   [1.0, 0.0, 0.0, 0.0, 0.0]   \n",
            "7   [1.0, 0.0, 0.0, 0.0, 0.0]   \n",
            "8   [0.0, 0.0, 0.0, 0.0, 1.0]   \n",
            "9   [1.0, 0.0, 0.0, 0.0, 0.0]   \n",
            "10  [1.0, 0.0, 0.0, 0.0, 0.0]   \n",
            "11  [1.0, 0.0, 0.0, 0.0, 0.0]   \n",
            "12  [0.0, 0.0, 0.0, 0.0, 1.0]   \n",
            "13  [0.0, 0.0, 0.0, 0.0, 1.0]   \n",
            "14  [1.0, 0.0, 0.0, 0.0, 0.0]   \n",
            "15  [0.0, 0.0, 0.0, 0.0, 1.0]   \n",
            "16  [0.0, 0.0, 1.0, 0.0, 0.0]   \n",
            "17  [1.0, 0.0, 0.0, 0.0, 0.0]   \n",
            "18  [0.0, 1.0, 0.0, 0.0, 0.0]   \n",
            "19  [1.0, 0.0, 0.0, 0.0, 0.0]   \n",
            "20  [0.0, 0.0, 1.0, 0.0, 0.0]   \n",
            "21  [1.0, 0.0, 0.0, 0.0, 0.0]   \n",
            "22  [1.0, 0.0, 0.0, 0.0, 0.0]   \n",
            "23  [0.0, 0.0, 0.0, 0.0, 1.0]   \n",
            "24  [0.0, 1.0, 0.0, 0.0, 0.0]   \n",
            "25  [1.0, 0.0, 0.0, 0.0, 0.0]   \n",
            "26  [1.0, 0.0, 0.0, 0.0, 0.0]   \n",
            "27  [0.0, 0.0, 0.0, 0.0, 1.0]   \n",
            "28  [0.0, 0.0, 0.0, 1.0, 0.0]   \n",
            "29  [1.0, 0.0, 0.0, 0.0, 0.0]   \n",
            "30  [1.0, 0.0, 0.0, 0.0, 0.0]   \n",
            "31  [1.0, 0.0, 0.0, 0.0, 0.0]   \n",
            "32  [0.0, 1.0, 0.0, 0.0, 0.0]   \n",
            "33  [1.0, 0.0, 0.0, 0.0, 0.0]   \n",
            "34  [0.0, 0.0, 0.0, 1.0, 0.0]   \n",
            "35  [1.0, 0.0, 0.0, 0.0, 0.0]   \n",
            "36  [0.0, 0.0, 1.0, 0.0, 0.0]   \n",
            "37  [1.0, 0.0, 0.0, 0.0, 0.0]   \n",
            "38  [0.0, 0.0, 1.0, 0.0, 0.0]   \n",
            "39  [0.0, 0.0, 1.0, 0.0, 0.0]   \n",
            "\n",
            "                                      Predicted Value  \n",
            "0   [0.1365484744310379, 0.46721455454826355, 0.36...  \n",
            "1   [0.9766473174095154, 0.0031409459188580513, 2....  \n",
            "2   [0.3684116303920746, 0.5812014937400818, 0.043...  \n",
            "3   [0.9588284492492676, 0.01693006604909897, 3.01...  \n",
            "4   [0.00011553438525879756, 3.0564478947781026e-0...  \n",
            "5   [0.8947495222091675, 4.4738899305230007e-05, 3...  \n",
            "6   [0.9997056722640991, 0.0001478833582950756, 1....  \n",
            "7   [0.26068538427352905, 0.7217719554901123, 0.00...  \n",
            "8   [0.0032087673898786306, 8.920043796933896e-07,...  \n",
            "9   [0.5706498622894287, 0.4041733145713806, 0.001...  \n",
            "10  [0.9997146129608154, 7.383346655842615e-06, 6....  \n",
            "11  [0.21831093728542328, 3.539081035341951e-06, 1...  \n",
            "12  [0.008380775339901447, 0.0004387887893244624, ...  \n",
            "13  [0.0021563840564340353, 8.874685590853915e-06,...  \n",
            "14  [0.3901326656341553, 0.21699722111225128, 0.27...  \n",
            "15  [0.000140620133606717, 6.954330444841617e-08, ...  \n",
            "16  [0.04508182778954506, 0.4378975033760071, 0.46...  \n",
            "17  [0.9999999403953552, 5.489504850686444e-09, 2....  \n",
            "18  [0.39084532856941223, 0.4654978811740875, 0.13...  \n",
            "19  [0.9867463111877441, 0.011980635114014149, 0.0...  \n",
            "20  [0.0021633219439536333, 0.20301148295402527, 0...  \n",
            "21  [0.9989544749259949, 0.00011521395208546892, 1...  \n",
            "22  [0.926662266254425, 7.722950977040455e-05, 2.9...  \n",
            "23  [0.021546918898820877, 7.116158826647734e-07, ...  \n",
            "24  [0.08963608741760254, 0.7728868126869202, 0.07...  \n",
            "25  [0.47816309332847595, 0.19510799646377563, 0.2...  \n",
            "26  [0.998779833316803, 0.0012054260587319732, 2.2...  \n",
            "27  [0.011418936774134636, 9.602383670426207e-07, ...  \n",
            "28  [0.05655883252620697, 0.1414787918329239, 0.07...  \n",
            "29  [0.9997818470001221, 7.499504135921597e-05, 6....  \n",
            "30  [0.9999265074729919, 6.29863134236075e-05, 1.1...  \n",
            "31  [0.01977577991783619, 0.16056238114833832, 0.8...  \n",
            "32  [0.25455281138420105, 0.6392636895179749, 0.00...  \n",
            "33  [0.9999076724052429, 3.581207784009166e-05, 2....  \n",
            "34  [0.7265262007713318, 0.028751052916049957, 0.0...  \n",
            "35  [0.9999997019767761, 4.390595620407112e-08, 2....  \n",
            "36  [0.03532968461513519, 0.20681177079677582, 0.7...  \n",
            "37  [0.9976340532302856, 0.00025749849737621844, 7...  \n",
            "38  [0.020364148542284966, 0.4702669084072113, 0.4...  \n",
            "39  [0.0032014192547649145, 0.21555018424987793, 0...  \n",
            "1/1 [==============================] - 0s 28ms/step\n",
            "Prediction: 0.99999666\n"
          ]
        }
      ]
    },
    {
      "cell_type": "markdown",
      "source": [
        "Based on this model we will create a function for predicting the drug type"
      ],
      "metadata": {
        "id": "CDDVRBLp61p2"
      }
    },
    {
      "cell_type": "markdown",
      "source": [
        "# User interface"
      ],
      "metadata": {
        "id": "XC1Blctx_x8K"
      }
    },
    {
      "cell_type": "code",
      "source": [
        "def predDrug(age,Sex,BP,cholestrol,Na_toK):\n",
        "  S={'F':0,'M':1}\n",
        "  B={'HIGH':0,'LOW':1,'NORMAL':2}\n",
        "  C={'HIGH':0,'NORMAL':1}\n",
        "  # Making predictions on new input\n",
        "  new_input = np.array([age, S.get(Sex), B.get(BP), C.get(cholestrol), Na_toK]).reshape(1, -1)  # Reshape the input as a 2D array\n",
        "  prediction = model.predict(new_input)\n",
        "  print(\"Prediction:\", prediction)\n",
        "  \n",
        "  max=0.\n",
        "  index=0\n",
        "  prediction=prediction.T\n",
        "  for i in prediction:\n",
        "    if i>max:\n",
        "     max=i\n",
        "     index+=1\n",
        "    \n",
        "  D={1:'DrugY', 2:'drugC', 3:'drugX', 4:'drugA', 5:'drugB'}\n",
        "  print(\"Prediction:\", D.get(index))\n",
        "\n",
        "\n"
      ],
      "metadata": {
        "id": "NenGtK5Z7GBr"
      },
      "execution_count": 226,
      "outputs": []
    },
    {
      "cell_type": "code",
      "source": [
        "predDrug( 23,'F','HIGH', 'HIGH',25.355)"
      ],
      "metadata": {
        "colab": {
          "base_uri": "https://localhost:8080/"
        },
        "id": "icNXseVCFCk0",
        "outputId": "33a3f46c-67d6-4b24-fae8-6b6a815de1e1"
      },
      "execution_count": 227,
      "outputs": [
        {
          "output_type": "stream",
          "name": "stdout",
          "text": [
            "1/1 [==============================] - 0s 38ms/step\n",
            "Prediction: [[9.9999988e-01 3.2634617e-08 5.6415415e-12 7.9482206e-08 3.6074874e-09]]\n",
            "Prediction: DrugY\n"
          ]
        }
      ]
    },
    {
      "cell_type": "code",
      "source": [
        "predDrug( 19,'M','LOW', 'HIGH',53.2543)"
      ],
      "metadata": {
        "colab": {
          "base_uri": "https://localhost:8080/"
        },
        "id": "epO4tSKQH9Qb",
        "outputId": "c6ec0671-39c9-43dc-d3f4-bd1ae79d4922"
      },
      "execution_count": 228,
      "outputs": [
        {
          "output_type": "stream",
          "name": "stdout",
          "text": [
            "1/1 [==============================] - 0s 21ms/step\n",
            "Prediction: [[1.0000000e+00 1.1673929e-24 1.2388348e-32 8.2593944e-22 4.1777709e-25]]\n",
            "Prediction: DrugY\n"
          ]
        }
      ]
    },
    {
      "cell_type": "code",
      "source": [
        "predDrug( 41,'M','LOW', 'HIGH',11.037)"
      ],
      "metadata": {
        "colab": {
          "base_uri": "https://localhost:8080/"
        },
        "id": "1adKkYvzOOj5",
        "outputId": "ad08abda-5dba-4c7e-ddb1-1f56f2b206a3"
      },
      "execution_count": 229,
      "outputs": [
        {
          "output_type": "stream",
          "name": "stdout",
          "text": [
            "1/1 [==============================] - 0s 21ms/step\n",
            "Prediction: [[0.22179934 0.19051576 0.0131206  0.4471395  0.12742475]]\n",
            "Prediction: drugC\n"
          ]
        }
      ]
    }
  ]
}