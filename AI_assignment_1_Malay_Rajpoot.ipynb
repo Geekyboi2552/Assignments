{
  "nbformat": 4,
  "nbformat_minor": 0,
  "metadata": {
    "colab": {
      "provenance": []
    },
    "kernelspec": {
      "name": "python3",
      "display_name": "Python 3"
    },
    "language_info": {
      "name": "python"
    }
  },
  "cells": [
    {
      "cell_type": "code",
      "execution_count": null,
      "metadata": {
        "id": "YO_2NIOOCsV8"
      },
      "outputs": [],
      "source": [
        "#Malay Rajpoot malay.rajpoot2020@vitstudent.ac.in\n",
        "import numpy as np\n",
        "import pandas as pd "
      ]
    },
    {
      "cell_type": "code",
      "source": [
        "#Task - 1 Create a pandas dataframe (DataFrame name as 'df') with numpy random values (4 features and 4 observation)\n",
        "\n",
        "s1=pd.Series(np.random.rand(4))\n",
        "s2=pd.Series(np.random.rand(4))\n",
        "s3=pd.Series(np.random.rand(4))\n",
        "s4=pd.Series(np.random.rand(4))\n",
        "df=pd.DataFrame([s1,s2,s3,s4])\n",
        "df=df.T\n",
        "\n",
        "print(df)"
      ],
      "metadata": {
        "colab": {
          "base_uri": "https://localhost:8080/"
        },
        "id": "AfgNnUT48qI3",
        "outputId": "03cc686c-55e4-4a12-8431-ed21f44aa6f6"
      },
      "execution_count": null,
      "outputs": [
        {
          "output_type": "stream",
          "name": "stdout",
          "text": [
            "          0         1         2         3\n",
            "0  0.567303  0.995368  0.344593  0.100559\n",
            "1  0.635836  0.044191  0.170607  0.641046\n",
            "2  0.463553  0.229586  0.927957  0.615395\n",
            "3  0.822516  0.775798  0.203227  0.547340\n"
          ]
        }
      ]
    },
    {
      "cell_type": "code",
      "source": [
        "#Task - 2 Rename the task - 1 'df' dataframe column names to 'Random value 1', 'Random value 2', 'Random value 3' & 'Random value 4'\n",
        "\n",
        "df.columns=['Random value 1','Random value 2','Random value 3','Random value 4',]\n",
        "print(df)\n"
      ],
      "metadata": {
        "colab": {
          "base_uri": "https://localhost:8080/"
        },
        "id": "jHJq1I8-961N",
        "outputId": "c3d50985-3617-470d-dfb9-40cbabd3a638"
      },
      "execution_count": null,
      "outputs": [
        {
          "output_type": "stream",
          "name": "stdout",
          "text": [
            "   Random value 1  Random value 2  Random value 3  Random value 4\n",
            "0        0.567303        0.995368        0.344593        0.100559\n",
            "1        0.635836        0.044191        0.170607        0.641046\n",
            "2        0.463553        0.229586        0.927957        0.615395\n",
            "3        0.822516        0.775798        0.203227        0.547340\n"
          ]
        }
      ]
    },
    {
      "cell_type": "code",
      "source": [
        "#Task - 3 Find the descriptive statistics of the 'df' dataframe.\n",
        "\n",
        "print(df.describe(include='all'))"
      ],
      "metadata": {
        "colab": {
          "base_uri": "https://localhost:8080/"
        },
        "id": "6fLtZWkwAPjC",
        "outputId": "77ff7b2b-7e4d-4f09-a4f9-72754157127d"
      },
      "execution_count": null,
      "outputs": [
        {
          "output_type": "stream",
          "name": "stdout",
          "text": [
            "       Random value 1  Random value 2  Random value 3  Random value 4\n",
            "count        4.000000        4.000000        4.000000        4.000000\n",
            "mean         0.622302        0.511236        0.411596        0.476085\n",
            "std          0.151102        0.447897        0.352426        0.253454\n",
            "min          0.463553        0.044191        0.170607        0.100559\n",
            "25%          0.541365        0.183237        0.195072        0.435645\n",
            "50%          0.601570        0.502692        0.273910        0.581368\n",
            "75%          0.682506        0.830691        0.490434        0.621808\n",
            "max          0.822516        0.995368        0.927957        0.641046\n"
          ]
        }
      ]
    },
    {
      "cell_type": "code",
      "source": [
        "#Task - 4 Check for the null values in 'df' and find the data type of the columns.\n",
        "\n",
        "print(df.isnull())\n",
        "print('\\n', df.isnull().sum())\n",
        "print('\\n', df.isnull().all())"
      ],
      "metadata": {
        "colab": {
          "base_uri": "https://localhost:8080/"
        },
        "id": "vJgX-CNrAdWX",
        "outputId": "3931bcbe-046a-4ac8-d560-8f23df2fb174"
      },
      "execution_count": null,
      "outputs": [
        {
          "output_type": "stream",
          "name": "stdout",
          "text": [
            "   Random value 1  Random value 2  Random value 3  Random value 4\n",
            "0           False           False           False           False\n",
            "1           False           False           False           False\n",
            "2           False           False           False           False\n",
            "3           False           False           False           False\n",
            "\n",
            " Random value 1    0\n",
            "Random value 2    0\n",
            "Random value 3    0\n",
            "Random value 4    0\n",
            "dtype: int64\n",
            "\n",
            " Random value 1    False\n",
            "Random value 2    False\n",
            "Random value 3    False\n",
            "Random value 4    False\n",
            "dtype: bool\n"
          ]
        }
      ]
    },
    {
      "cell_type": "code",
      "source": [
        "#Task - 5 Display the 'Random value 2' & 'Random value 3' columns with location method and index location method.\n",
        "\n",
        "print(df.loc[:,'Random value 2':'Random value 3'])\n",
        "print('\\n')\n",
        "print(df.iloc[:,1:3])"
      ],
      "metadata": {
        "colab": {
          "base_uri": "https://localhost:8080/"
        },
        "id": "zv24qfdoBGf5",
        "outputId": "b30fea34-43ce-4385-9d4d-c5136182397f"
      },
      "execution_count": null,
      "outputs": [
        {
          "output_type": "stream",
          "name": "stdout",
          "text": [
            "   Random value 2  Random value 3\n",
            "0        0.995368        0.344593\n",
            "1        0.044191        0.170607\n",
            "2        0.229586        0.927957\n",
            "3        0.775798        0.203227\n",
            "\n",
            "\n",
            "   Random value 2  Random value 3\n",
            "0        0.995368        0.344593\n",
            "1        0.044191        0.170607\n",
            "2        0.229586        0.927957\n",
            "3        0.775798        0.203227\n"
          ]
        }
      ]
    }
  ]
}